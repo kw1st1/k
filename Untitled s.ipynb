{
 "cells": [
  {
   "cell_type": "code",
   "execution_count": null,
   "id": "70162fb9",
   "metadata": {},
   "outputs": [],
   "source": [
    "Лемматизация"
   ]
  },
  {
   "cell_type": "code",
   "execution_count": null,
   "id": "7a907053",
   "metadata": {},
   "outputs": [],
   "source": [
    "import pymorphy2\n",
    "from nltk.corpus import stopwords\n",
    "from functools import lru_cache\n",
    "\n",
    "# кешируем слова для быстрого доступа к ним в других случаях\n",
    "@lru_cache(maxsize=None) \n",
    "def norm_form(word):\n",
    "    return morph.parse(word)[0].normal_form\n",
    "\n",
    "new_nomenclature = list()\n",
    "morph = pymorphy2.MorphAnalyzer()\n",
    "for text in tqdm(data_all['Номенклатура']):\n",
    "    # приведём все слова к нормальной форме и удалим малозначимые слова\n",
    "    new_nomenclature.append(' '.join([norm_form(word) for word in text.split(' ') \\\n",
    "                 if word not in stopwords.words('russian') or word == 'то']).strip())\n",
    "data_all['НоменклатураНовая'] = new_nomenclature"
   ]
  },
  {
   "cell_type": "code",
   "execution_count": null,
   "id": "df505a37",
   "metadata": {},
   "outputs": [],
   "source": [
    "Для удаления пунктуации"
   ]
  },
  {
   "cell_type": "code",
   "execution_count": null,
   "id": "208d7add",
   "metadata": {},
   "outputs": [],
   "source": [
    "def remove_punct(text):\n",
    "    import string\n",
    "    # удаляем пунктуацию и  \n",
    "    # склеиваем символы, приводя слова к нижнему регистру\n",
    "    return ''.join([c for c in text if c not in string.punctuation or c == '-']).lower()"
   ]
  },
  {
   "cell_type": "code",
   "execution_count": null,
   "id": "816dd23a",
   "metadata": {},
   "outputs": [],
   "source": [
    "Если html-теги или ещё каки-то странно-стрёмные конструкции, заключённые между <>"
   ]
  },
  {
   "cell_type": "code",
   "execution_count": null,
   "id": "905f2ff5",
   "metadata": {},
   "outputs": [],
   "source": [
    "def remove_tags(text):\n",
    "    # удаление тегов разметки\n",
    "    text = re.sub(r\"<[^>]+>\", \"\", str(text), flags=re.S)\n",
    "    # удаление последовательностей \\r и \\n\n",
    "    text = re.sub(r\"\\r|\\n\", \" \", str(text), flags=re.S)\n",
    "    # удаление последовательностей \\b\n",
    "    text = re.sub(r\"\\b\", \"\", str(text), flags=re.S)\n",
    "    text = re.sub(r\" +\", \" \", str(text), flags=re.S)\n",
    "    text = re.sub(r\"^\\d+$\", \"\", str(text), flags=re.S)\n",
    "    return text"
   ]
  },
  {
   "cell_type": "code",
   "execution_count": null,
   "id": "a7a01c98",
   "metadata": {},
   "outputs": [],
   "source": [
    "Для выявления значимых слов можно делать вот такую красивую штуку."
   ]
  },
  {
   "cell_type": "code",
   "execution_count": null,
   "id": "1a5b9de7",
   "metadata": {},
   "outputs": [],
   "source": [
    "pip install wordcloud\n",
    "\n",
    "import matplotlib.pyplot as plt\n",
    "%matplotlib inline\n",
    "\n",
    "from wordcloud import WordCloud, STOPWORDS\n",
    "wordCloud = WordCloud(width = 10000, height = 10000, random_state=1, background_color='black', colormap='Set2', collocations=False).generate(big_string)\n",
    "\n",
    "plt.figure(figsize=(5,5))\n",
    "plt.imshow(wordCloud)"
   ]
  },
  {
   "cell_type": "code",
   "execution_count": null,
   "id": "bb61c60f",
   "metadata": {},
   "outputs": [],
   "source": [
    "Убираем стоп-слова"
   ]
  },
  {
   "cell_type": "code",
   "execution_count": null,
   "id": "48bc5846",
   "metadata": {},
   "outputs": [],
   "source": [
    "# Подкачка словаря слов\n",
    "nltk.download(\"stopwords\")\n",
    "russian_stopwords = stopwords.words(\"russian\")"
   ]
  },
  {
   "cell_type": "code",
   "execution_count": null,
   "id": "1b9abf39",
   "metadata": {},
   "outputs": [],
   "source": [
    "\n",
    "stop_words = open('stop-ru.txt', 'r', encoding='utf8')\n",
    "stop_words = stop_words.read()\n",
    "stop_words = stop_words.split('\\n')"
   ]
  },
  {
   "cell_type": "code",
   "execution_count": null,
   "id": "cd787a9b",
   "metadata": {},
   "outputs": [],
   "source": [
    "# создадим массив clear_data, куда будем заносить слова из массива data, которые не содержатся в списке стоп-слов\n",
    "clear_data=[]\n",
    "for i in data:\n",
    "    if(i not in stop_words):\n",
    "        clear_data.append(i)"
   ]
  },
  {
   "cell_type": "code",
   "execution_count": null,
   "id": "92623a10",
   "metadata": {},
   "outputs": [],
   "source": [
    "# Формируем нашу большую строку, только теперь из нового массива и заново строим WordCloud.\n",
    "big_string=''\n",
    "for i in range(len(clear_data)):\n",
    "    big_string+=(clear_data[i]+' ')\n",
    "    \n",
    "wordCloud = WordCloud(width = 10000, height = 10000, random_state=1, background_color='black', colormap='Set2', collocations=False).generate(big_string)\n",
    "plt.figure(figsize=(5,5))\n",
    "plt.imshow(wordCloud)"
   ]
  }
 ],
 "metadata": {
  "kernelspec": {
   "display_name": "Python 3 (ipykernel)",
   "language": "python",
   "name": "python3"
  },
  "language_info": {
   "codemirror_mode": {
    "name": "ipython",
    "version": 3
   },
   "file_extension": ".py",
   "mimetype": "text/x-python",
   "name": "python",
   "nbconvert_exporter": "python",
   "pygments_lexer": "ipython3",
   "version": "3.10.9"
  }
 },
 "nbformat": 4,
 "nbformat_minor": 5
}
