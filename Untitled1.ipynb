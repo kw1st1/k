{
 "cells": [
  {
   "cell_type": "markdown",
   "id": "00cf52ee-be10-4074-86ec-68f41283d732",
   "metadata": {},
   "source": [
    "# Импортируем библиотеки"
   ]
  },
  {
   "cell_type": "code",
   "execution_count": 11,
   "id": "c529ae4e-6f91-4617-b065-ef7444bf475c",
   "metadata": {},
   "outputs": [],
   "source": [
    "import pandas as pd\n",
    "import numpy as np\n",
    "import seaborn as sns\n",
    "import matplotlib.pyplot as plt\n",
    "from tqdm import tqdm\n",
    "import json\n",
    "import string\n",
    "import re\n",
    "import zipfile\n",
    "import glob\n",
    "import nltk\n",
    "from pymystem3 import Mystem\n",
    "from nltk.tokenize import word_tokenize\n",
    "from nltk.corpus import stopwords\n",
    "from nltk.stem.snowball import SnowballStemmer as snow \n",
    "import pymorphy2\n",
    "from functools import lru_cache\n",
    "from sklearn.cluster import KMeans\n",
    "from sklearn.feature_extraction.text import CountVectorizer\n",
    "from sklearn.model_selection import train_test_split\n",
    "import warnings\n",
    "warnings.filterwarnings(\"ignore\")"
   ]
  },
  {
   "cell_type": "markdown",
   "id": "e62bf644-7e2e-4302-9b2d-418b47a702dd",
   "metadata": {},
   "source": [
    "# 1.1 Парсинг данных"
   ]
  },
  {
   "cell_type": "markdown",
   "id": "015c2c8f-7c25-4120-ae9a-43050147c423",
   "metadata": {},
   "source": [
    "Разархивируем zip через код"
   ]
  },
  {
   "cell_type": "code",
   "execution_count": 12,
   "id": "29c3b62a-5a31-4259-8689-94353c5c4acf",
   "metadata": {},
   "outputs": [],
   "source": [
    "fantasy_zip = zipfile.ZipFile('Data.zip') # Открыть zip файл\n",
    "# fantasy_zip.setpassword(b'123') # Пароль от архива\n",
    "fantasy_zip.extractall() # Разархировать в папку\n",
    "fantasy_zip.close() # Закрыть файл"
   ]
  },
  {
   "cell_type": "markdown",
   "id": "d6f30bae-8c81-4ca8-a7c9-66aabc27adda",
   "metadata": {},
   "source": [
    "Получим список всех json'ов, которые находятся внутри папки архива"
   ]
  },
  {
   "cell_type": "code",
   "execution_count": 13,
   "id": "43490056-9c8a-44e1-afaa-5f61b9d586f2",
   "metadata": {},
   "outputs": [
    {
     "data": {
      "text/plain": [
       "['data\\\\00c2bfc7-57db-496e-9d5c-d62f8d8119e3.json',\n",
       " 'data\\\\00e58afe-3ef5-42a6-92f3-8ee7abf868e1.json',\n",
       " 'data\\\\0104b39c-7aa4-45cd-8d28-b05dc6bafdf2.json',\n",
       " 'data\\\\01472aab-d8c2-43aa-b510-e259d58cd9a4.json',\n",
       " 'data\\\\017a0674-613b-428d-8e3a-7dcf86b72edb.json',\n",
       " 'data\\\\0203e66f-4fda-4f79-b454-ef353914810b.json',\n",
       " 'data\\\\02343952-78b0-4e51-9d0f-ccfc6afd1eff.json',\n",
       " 'data\\\\0266c1a8-c9e9-4fe5-b271-85269772e88e.json',\n",
       " 'data\\\\034254a6-d1ba-4619-b7a8-4b3f2098f37f.json',\n",
       " 'data\\\\034c6cd6-4e94-4be4-96a0-9e077b2ed089.json',\n",
       " 'data\\\\03a621b9-c2e8-4a8a-a992-e6353ebd8ddc.json',\n",
       " 'data\\\\03b5cca3-309c-4377-b481-cbd9909b2644.json',\n",
       " 'data\\\\0565155c-7303-4dd0-a632-22b02d6869fe.json']"
      ]
     },
     "execution_count": 13,
     "metadata": {},
     "output_type": "execute_result"
    }
   ],
   "source": [
    "list_json = glob.glob(\"data/*.json\") # Получим список json файлов\n",
    "list_json"
   ]
  },
  {
   "cell_type": "markdown",
   "id": "43afd8bb-e3a8-4f31-a744-25f61d753678",
   "metadata": {},
   "source": [
    "Посмотрим на струкутру json"
   ]
  },
  {
   "cell_type": "code",
   "execution_count": 14,
   "id": "6b1280b9-6717-4c48-a4b9-821378dc903f",
   "metadata": {},
   "outputs": [
    {
     "data": {
      "text/plain": [
       "[{'id': '52400834',\n",
       "  'text': \"The Western Province Ice Hockey Association, more commonly known as WP Ice Hockey, is a non-profit organization and member branch of South African Ice Hockey Federation in charge of governing ice hockey at all levels in Western Cape. It comprises 3 ice hockey teams, 110 players, 10 officials. ==Executive Committee== * Jason Cerff - President * Salama Khan - Vice President * Tracy Cerff - General Secretary * Nasir Khan - Treasurer * Sharief Kamish - Junior Development * Steven Johnson - Senior Development * Dominic Young - Players Rep * Gillian Swart - Women in Sport * Marc Giot - Head Coach * Jonathan Burger - Referee-in-Chief ==Leagues== *Western Province Ice Hockey U12 League - Under 12's *Western Province Ice Hockey U16 League - Under 16's *Western Province Ice Hockey U20 League - Under 20's *Western Province Ice Hockey Premier League - Senior ==Teams== * Cape Town Kings * Cape Town Penguins * Cape Town Storm * Cape Town Griffins (Ladies Team) == References == ==External links== *WP Ice Hockey Category:Ice hockey in South Africa \",\n",
       "  'title': 'Western Province Ice Hockey Association'}]"
      ]
     },
     "execution_count": 14,
     "metadata": {},
     "output_type": "execute_result"
    }
   ],
   "source": [
    "with open(list_json[5], \"r\", encoding='utf-8') as f: # Чтение файлов\n",
    "    text = json.load(f)\n",
    "text[:1]"
   ]
  },
  {
   "cell_type": "code",
   "execution_count": 15,
   "id": "086f0d8c-0c61-470d-8b5a-bf9719811f65",
   "metadata": {},
   "outputs": [
    {
     "data": {
      "text/plain": [
       "{'id': '58298929',\n",
       " 'text': 'GTel Zimbabwe is a Zimbabwean owned company that develops and manufactures ICT products and services. It is the first locally owned mobile phone device manufacture in Zimbabwe. In 2014, GTel launched the SL 5.5 which became the 2nd slimmest mobile phone handset in the world behind the Asian Oppo that year. ==History== GTel Zimbabwe was founded in October 2009 as a franchise of G-Tide Mobile International. It re-branded to GTel in July 2011. GTel Zimbabwe was founded by Chamunorwa Shumba and Cheryl Shumba. GTel is headquartered in Harare and Shumba is the founding Chief Executive Officer. As of 2015, GTel had one million mobile phone users in Zimbabwe. In 2015, the company expanded its operations to Kenya. The company released three new phone models in 2018, including the X7 that has wireless charging. ==References== ==External links== * Category:Telecommunications companies of Zimbabwe Category:Mobile phone manufacturers ',\n",
       " 'title': 'GTel Zimbabwe'}"
      ]
     },
     "execution_count": 15,
     "metadata": {},
     "output_type": "execute_result"
    }
   ],
   "source": [
    "with open(list_json[7], \"r\", encoding='utf-8') as f: # Чтение файлов\n",
    "    text = json.load(f)\n",
    "text[0]"
   ]
  },
  {
   "cell_type": "markdown",
   "id": "a90c373d-b4e4-4a16-83c9-cfb1dfe23f8b",
   "metadata": {},
   "source": [
    "Структура json'ов слудующая<br>\n",
    "id - идентификатор<br>\n",
    "text - текст<br>\n",
    "title - заголовок<br>\n",
    "С помощью цикла пройдёмся по всем файлам и соеденим их в единый датафрейм"
   ]
  },
  {
   "cell_type": "markdown",
   "id": "fb861efb-17fa-4e9e-9264-8b8b9c71a6aa",
   "metadata": {},
   "source": [
    "# 1.2 Формирование струкутры данных"
   ]
  },
  {
   "cell_type": "code",
   "execution_count": 16,
   "id": "2d959b91-8ed7-453f-bb8c-c9128aa9dea6",
   "metadata": {},
   "outputs": [
    {
     "name": "stderr",
     "output_type": "stream",
     "text": [
      "100%|██████████████████████████████████████████████████████████████████████████████████| 13/13 [00:03<00:00,  3.28it/s]\n"
     ]
    }
   ],
   "source": [
    "df = pd.DataFrame() # Датафрейм со всеми данными\n",
    "for json_text in tqdm(list_json):\n",
    "    with open(json_text, \"r\", encoding='utf-8') as f: # Чтение файлов\n",
    "        text = json.load(f)\n",
    "    df = pd.concat([df, pd.DataFrame(text)])"
   ]
  },
  {
   "cell_type": "code",
   "execution_count": 17,
   "id": "f247327b-4d64-4042-99f5-c1a3030e6a07",
   "metadata": {},
   "outputs": [
    {
     "data": {
      "text/html": [
       "<div>\n",
       "<style scoped>\n",
       "    .dataframe tbody tr th:only-of-type {\n",
       "        vertical-align: middle;\n",
       "    }\n",
       "\n",
       "    .dataframe tbody tr th {\n",
       "        vertical-align: top;\n",
       "    }\n",
       "\n",
       "    .dataframe thead th {\n",
       "        text-align: right;\n",
       "    }\n",
       "</style>\n",
       "<table border=\"1\" class=\"dataframe\">\n",
       "  <thead>\n",
       "    <tr style=\"text-align: right;\">\n",
       "      <th></th>\n",
       "      <th>id</th>\n",
       "      <th>text</th>\n",
       "      <th>title</th>\n",
       "    </tr>\n",
       "  </thead>\n",
       "  <tbody>\n",
       "    <tr>\n",
       "      <th>0</th>\n",
       "      <td>7751000</td>\n",
       "      <td>M-137 was a state trunkline highway in the US ...</td>\n",
       "      <td>M-137 (Michigan highway)</td>\n",
       "    </tr>\n",
       "    <tr>\n",
       "      <th>1</th>\n",
       "      <td>7751001</td>\n",
       "      <td>In sociology, dynamic density refers to the co...</td>\n",
       "      <td>Dynamic density</td>\n",
       "    </tr>\n",
       "    <tr>\n",
       "      <th>2</th>\n",
       "      <td>7751042</td>\n",
       "      <td>Bert Robert Shepard (June 20, 1920 – June 16, ...</td>\n",
       "      <td>Bert Shepard</td>\n",
       "    </tr>\n",
       "    <tr>\n",
       "      <th>3</th>\n",
       "      <td>7751048</td>\n",
       "      <td>Marc Fein (born Marc Alan Fein October 21, 196...</td>\n",
       "      <td>Marc Fein</td>\n",
       "    </tr>\n",
       "    <tr>\n",
       "      <th>4</th>\n",
       "      <td>7751062</td>\n",
       "      <td>Ghelamco Arena panorama indoor. The Ghelamco A...</td>\n",
       "      <td>Ghelamco Arena</td>\n",
       "    </tr>\n",
       "    <tr>\n",
       "      <th>...</th>\n",
       "      <td>...</td>\n",
       "      <td>...</td>\n",
       "      <td>...</td>\n",
       "    </tr>\n",
       "    <tr>\n",
       "      <th>14832</th>\n",
       "      <td>44387200</td>\n",
       "      <td>Crassuncus livingstoni is a moth of the family...</td>\n",
       "      <td>Crassuncus livingstoni</td>\n",
       "    </tr>\n",
       "    <tr>\n",
       "      <th>14833</th>\n",
       "      <td>44387224</td>\n",
       "      <td>Oru Sisu Jananam is a 1982 Indian Malayalam fi...</td>\n",
       "      <td>Oru Sisu Jananam</td>\n",
       "    </tr>\n",
       "    <tr>\n",
       "      <th>14834</th>\n",
       "      <td>44387237</td>\n",
       "      <td>H. D. Poindexter Houses are a set of historic ...</td>\n",
       "      <td>H. D. Poindexter Houses</td>\n",
       "    </tr>\n",
       "    <tr>\n",
       "      <th>14835</th>\n",
       "      <td>44387242</td>\n",
       "      <td>Kallimullu is a 1982 Indian Malayalam film dir...</td>\n",
       "      <td>Kallimullu</td>\n",
       "    </tr>\n",
       "    <tr>\n",
       "      <th>14836</th>\n",
       "      <td>44387249</td>\n",
       "      <td>*This is a list of transfers in Serbian footba...</td>\n",
       "      <td>List of Serbian football transfers winter 2014–15</td>\n",
       "    </tr>\n",
       "  </tbody>\n",
       "</table>\n",
       "<p>142390 rows × 3 columns</p>\n",
       "</div>"
      ],
      "text/plain": [
       "             id                                               text  \\\n",
       "0       7751000  M-137 was a state trunkline highway in the US ...   \n",
       "1       7751001  In sociology, dynamic density refers to the co...   \n",
       "2       7751042  Bert Robert Shepard (June 20, 1920 – June 16, ...   \n",
       "3       7751048  Marc Fein (born Marc Alan Fein October 21, 196...   \n",
       "4       7751062  Ghelamco Arena panorama indoor. The Ghelamco A...   \n",
       "...         ...                                                ...   \n",
       "14832  44387200  Crassuncus livingstoni is a moth of the family...   \n",
       "14833  44387224  Oru Sisu Jananam is a 1982 Indian Malayalam fi...   \n",
       "14834  44387237  H. D. Poindexter Houses are a set of historic ...   \n",
       "14835  44387242  Kallimullu is a 1982 Indian Malayalam film dir...   \n",
       "14836  44387249  *This is a list of transfers in Serbian footba...   \n",
       "\n",
       "                                                   title  \n",
       "0                               M-137 (Michigan highway)  \n",
       "1                                        Dynamic density  \n",
       "2                                           Bert Shepard  \n",
       "3                                              Marc Fein  \n",
       "4                                         Ghelamco Arena  \n",
       "...                                                  ...  \n",
       "14832                             Crassuncus livingstoni  \n",
       "14833                                   Oru Sisu Jananam  \n",
       "14834                            H. D. Poindexter Houses  \n",
       "14835                                         Kallimullu  \n",
       "14836  List of Serbian football transfers winter 2014–15  \n",
       "\n",
       "[142390 rows x 3 columns]"
      ]
     },
     "execution_count": 17,
     "metadata": {},
     "output_type": "execute_result"
    }
   ],
   "source": [
    "df # Посомотрим на получившийся датафрейм"
   ]
  },
  {
   "cell_type": "markdown",
   "id": "4f7cfdc7-1469-4597-a71c-e3acdb126fd8",
   "metadata": {},
   "source": [
    "# 1.3 Предварителньая обработка текстовых данных"
   ]
  },
  {
   "cell_type": "code",
   "execution_count": 18,
   "id": "6aa7eb1e-96b5-4380-8e67-347872126c69",
   "metadata": {},
   "outputs": [
    {
     "data": {
      "text/plain": [
       "id       object\n",
       "text     object\n",
       "title    object\n",
       "dtype: object"
      ]
     },
     "execution_count": 18,
     "metadata": {},
     "output_type": "execute_result"
    }
   ],
   "source": [
    "df.dtypes # Посмотрим на типы данных"
   ]
  },
  {
   "cell_type": "code",
   "execution_count": 19,
   "id": "f338a8fb-7ef6-4b02-a4de-31ab5a65fa02",
   "metadata": {},
   "outputs": [
    {
     "data": {
      "text/plain": [
       "id        int32\n",
       "text     object\n",
       "title    object\n",
       "dtype: object"
      ]
     },
     "execution_count": 19,
     "metadata": {},
     "output_type": "execute_result"
    }
   ],
   "source": [
    "df['id'] = df['id'].astype('int32') # Переведём идентификатор в численный формат\n",
    "df.dtypes"
   ]
  },
  {
   "cell_type": "markdown",
   "id": "441c192d-c687-4667-83fd-9693ab88c27e",
   "metadata": {},
   "source": [
    "Удаление из текстов знаков препинания, спецсимволов и т.д"
   ]
  },
  {
   "cell_type": "code",
   "execution_count": 20,
   "id": "cd2d269e-803b-44e2-98cd-7829dcdd1553",
   "metadata": {},
   "outputs": [
    {
     "name": "stdout",
     "output_type": "stream",
     "text": [
      "CPU times: total: 1min 29s\n",
      "Wall time: 2min 5s\n"
     ]
    },
    {
     "data": {
      "text/html": [
       "<div>\n",
       "<style scoped>\n",
       "    .dataframe tbody tr th:only-of-type {\n",
       "        vertical-align: middle;\n",
       "    }\n",
       "\n",
       "    .dataframe tbody tr th {\n",
       "        vertical-align: top;\n",
       "    }\n",
       "\n",
       "    .dataframe thead th {\n",
       "        text-align: right;\n",
       "    }\n",
       "</style>\n",
       "<table border=\"1\" class=\"dataframe\">\n",
       "  <thead>\n",
       "    <tr style=\"text-align: right;\">\n",
       "      <th></th>\n",
       "      <th>id</th>\n",
       "      <th>text</th>\n",
       "      <th>title</th>\n",
       "    </tr>\n",
       "  </thead>\n",
       "  <tbody>\n",
       "    <tr>\n",
       "      <th>0</th>\n",
       "      <td>7751000</td>\n",
       "      <td>M was a state trunkline highway in the US stat...</td>\n",
       "      <td>M Michigan highway</td>\n",
       "    </tr>\n",
       "    <tr>\n",
       "      <th>1</th>\n",
       "      <td>7751001</td>\n",
       "      <td>In sociology dynamic density refers to the com...</td>\n",
       "      <td>Dynamic density</td>\n",
       "    </tr>\n",
       "    <tr>\n",
       "      <th>2</th>\n",
       "      <td>7751042</td>\n",
       "      <td>Bert Robert Shepard June – June was an America...</td>\n",
       "      <td>Bert Shepard</td>\n",
       "    </tr>\n",
       "    <tr>\n",
       "      <th>3</th>\n",
       "      <td>7751048</td>\n",
       "      <td>Marc Fein born Marc Alan Fein October in Miami...</td>\n",
       "      <td>Marc Fein</td>\n",
       "    </tr>\n",
       "    <tr>\n",
       "      <th>4</th>\n",
       "      <td>7751062</td>\n",
       "      <td>Ghelamco Arena panorama indoor The Ghelamco Ar...</td>\n",
       "      <td>Ghelamco Arena</td>\n",
       "    </tr>\n",
       "    <tr>\n",
       "      <th>...</th>\n",
       "      <td>...</td>\n",
       "      <td>...</td>\n",
       "      <td>...</td>\n",
       "    </tr>\n",
       "    <tr>\n",
       "      <th>14832</th>\n",
       "      <td>44387200</td>\n",
       "      <td>Crassuncus livingstoni is a moth of the family...</td>\n",
       "      <td>Crassuncus livingstoni</td>\n",
       "    </tr>\n",
       "    <tr>\n",
       "      <th>14833</th>\n",
       "      <td>44387224</td>\n",
       "      <td>Oru Sisu Jananam is a Indian Malayalam film di...</td>\n",
       "      <td>Oru Sisu Jananam</td>\n",
       "    </tr>\n",
       "    <tr>\n",
       "      <th>14834</th>\n",
       "      <td>44387237</td>\n",
       "      <td>H D Poindexter Houses are a set of historic ho...</td>\n",
       "      <td>H D Poindexter Houses</td>\n",
       "    </tr>\n",
       "    <tr>\n",
       "      <th>14835</th>\n",
       "      <td>44387242</td>\n",
       "      <td>Kallimullu is a Indian Malayalam film directed...</td>\n",
       "      <td>Kallimullu</td>\n",
       "    </tr>\n",
       "    <tr>\n",
       "      <th>14836</th>\n",
       "      <td>44387249</td>\n",
       "      <td>This is a list of transfers in Serbian footba...</td>\n",
       "      <td>List of Serbian football transfers winter –</td>\n",
       "    </tr>\n",
       "  </tbody>\n",
       "</table>\n",
       "<p>142390 rows × 3 columns</p>\n",
       "</div>"
      ],
      "text/plain": [
       "             id                                               text  \\\n",
       "0       7751000  M was a state trunkline highway in the US stat...   \n",
       "1       7751001  In sociology dynamic density refers to the com...   \n",
       "2       7751042  Bert Robert Shepard June – June was an America...   \n",
       "3       7751048  Marc Fein born Marc Alan Fein October in Miami...   \n",
       "4       7751062  Ghelamco Arena panorama indoor The Ghelamco Ar...   \n",
       "...         ...                                                ...   \n",
       "14832  44387200  Crassuncus livingstoni is a moth of the family...   \n",
       "14833  44387224  Oru Sisu Jananam is a Indian Malayalam film di...   \n",
       "14834  44387237  H D Poindexter Houses are a set of historic ho...   \n",
       "14835  44387242  Kallimullu is a Indian Malayalam film directed...   \n",
       "14836  44387249   This is a list of transfers in Serbian footba...   \n",
       "\n",
       "                                              title  \n",
       "0                               M Michigan highway   \n",
       "1                                   Dynamic density  \n",
       "2                                      Bert Shepard  \n",
       "3                                         Marc Fein  \n",
       "4                                    Ghelamco Arena  \n",
       "...                                             ...  \n",
       "14832                        Crassuncus livingstoni  \n",
       "14833                              Oru Sisu Jananam  \n",
       "14834                         H D Poindexter Houses  \n",
       "14835                                    Kallimullu  \n",
       "14836  List of Serbian football transfers winter –   \n",
       "\n",
       "[142390 rows x 3 columns]"
      ]
     },
     "execution_count": 20,
     "metadata": {},
     "output_type": "execute_result"
    }
   ],
   "source": [
    "%%time\n",
    "def correct_text(text):\n",
    "    text = re.sub(r\"<[^>]+>\", \"\", str(text), flags=re.S)\n",
    "    # удаление последовательностей \\r и \\n\n",
    "    text = re.sub(r\"\\r|\\n\", \" \", str(text), flags=re.S)\n",
    "    # удаление последовательностей \\b\n",
    "    text = re.sub(r\"\\b\", \"\", str(text), flags=re.S)\n",
    "    text = re.sub(r\" +\", \" \", str(text), flags=re.S)\n",
    "    text = re.sub(r\"^\\d+$\", \"\", str(text), flags=re.S)\n",
    "    # Убираем знаки препинания\n",
    "    text = \"\".join([ch if ch not in string.punctuation else ' ' for ch in text])\n",
    "    # Убираем числа\n",
    "    text = ''.join([i if not i.isdigit() else ' ' for i in text])\n",
    "    # Убираем лишние пробелы\n",
    "    text = re.sub(r'\\s+', ' ', text, flags=re.I) \n",
    "    return text if text != '' else None\n",
    "\n",
    "df['title'] = df['title'].apply(correct_text)\n",
    "df['text'] = df['text'].apply(correct_text)\n",
    "df"
   ]
  },
  {
   "cell_type": "code",
   "execution_count": 21,
   "id": "9cc7db62-f2d0-4a39-9d1e-98a9309b7735",
   "metadata": {},
   "outputs": [
    {
     "data": {
      "text/plain": [
       "id       0.000000\n",
       "text     0.000000\n",
       "title    0.134139\n",
       "dtype: float64"
      ]
     },
     "execution_count": 21,
     "metadata": {},
     "output_type": "execute_result"
    }
   ],
   "source": [
    "df.isna().sum() / df.shape[0] * 100 # Посмотрим на пропуски"
   ]
  },
  {
   "cell_type": "markdown",
   "id": "ee884c54-16d3-46ef-89b8-0da6db698e08",
   "metadata": {},
   "source": [
    "Можно увидеть, что у некоторых текстов отсутсвует заголовок и таких записей меньше процента, поэтому уберём их"
   ]
  },
  {
   "cell_type": "code",
   "execution_count": 22,
   "id": "bf411884-abd8-42ce-8c11-d9db91914181",
   "metadata": {},
   "outputs": [
    {
     "data": {
      "text/plain": [
       "id       0.0\n",
       "text     0.0\n",
       "title    0.0\n",
       "dtype: float64"
      ]
     },
     "execution_count": 22,
     "metadata": {},
     "output_type": "execute_result"
    }
   ],
   "source": [
    "df.dropna(inplace=True)\n",
    "df.isna().sum() / df.shape[0] * 100 # Посмотрим на пропуски"
   ]
  },
  {
   "cell_type": "markdown",
   "id": "afd27f4b-5e99-4ceb-ae7f-5144bcbc42b2",
   "metadata": {},
   "source": [
    "Соеденим заголовки и текст в один признак, это поможет лучше классифицировать текс модели"
   ]
  },
  {
   "cell_type": "code",
   "execution_count": 23,
   "id": "74a5b824-024e-4b0c-bfec-1b3da9781437",
   "metadata": {},
   "outputs": [
    {
     "data": {
      "text/html": [
       "<div>\n",
       "<style scoped>\n",
       "    .dataframe tbody tr th:only-of-type {\n",
       "        vertical-align: middle;\n",
       "    }\n",
       "\n",
       "    .dataframe tbody tr th {\n",
       "        vertical-align: top;\n",
       "    }\n",
       "\n",
       "    .dataframe thead th {\n",
       "        text-align: right;\n",
       "    }\n",
       "</style>\n",
       "<table border=\"1\" class=\"dataframe\">\n",
       "  <thead>\n",
       "    <tr style=\"text-align: right;\">\n",
       "      <th></th>\n",
       "      <th>id</th>\n",
       "      <th>text</th>\n",
       "      <th>title</th>\n",
       "      <th>original</th>\n",
       "    </tr>\n",
       "  </thead>\n",
       "  <tbody>\n",
       "    <tr>\n",
       "      <th>0</th>\n",
       "      <td>7751000</td>\n",
       "      <td>M was a state trunkline highway in the US stat...</td>\n",
       "      <td>M Michigan highway</td>\n",
       "      <td>M Michigan highway M was a state trunkline hig...</td>\n",
       "    </tr>\n",
       "    <tr>\n",
       "      <th>1</th>\n",
       "      <td>7751001</td>\n",
       "      <td>In sociology dynamic density refers to the com...</td>\n",
       "      <td>Dynamic density</td>\n",
       "      <td>Dynamic densityIn sociology dynamic density re...</td>\n",
       "    </tr>\n",
       "    <tr>\n",
       "      <th>2</th>\n",
       "      <td>7751042</td>\n",
       "      <td>Bert Robert Shepard June – June was an America...</td>\n",
       "      <td>Bert Shepard</td>\n",
       "      <td>Bert ShepardBert Robert Shepard June – June wa...</td>\n",
       "    </tr>\n",
       "    <tr>\n",
       "      <th>3</th>\n",
       "      <td>7751048</td>\n",
       "      <td>Marc Fein born Marc Alan Fein October in Miami...</td>\n",
       "      <td>Marc Fein</td>\n",
       "      <td>Marc FeinMarc Fein born Marc Alan Fein October...</td>\n",
       "    </tr>\n",
       "    <tr>\n",
       "      <th>4</th>\n",
       "      <td>7751062</td>\n",
       "      <td>Ghelamco Arena panorama indoor The Ghelamco Ar...</td>\n",
       "      <td>Ghelamco Arena</td>\n",
       "      <td>Ghelamco ArenaGhelamco Arena panorama indoor T...</td>\n",
       "    </tr>\n",
       "    <tr>\n",
       "      <th>...</th>\n",
       "      <td>...</td>\n",
       "      <td>...</td>\n",
       "      <td>...</td>\n",
       "      <td>...</td>\n",
       "    </tr>\n",
       "    <tr>\n",
       "      <th>14832</th>\n",
       "      <td>44387200</td>\n",
       "      <td>Crassuncus livingstoni is a moth of the family...</td>\n",
       "      <td>Crassuncus livingstoni</td>\n",
       "      <td>Crassuncus livingstoniCrassuncus livingstoni i...</td>\n",
       "    </tr>\n",
       "    <tr>\n",
       "      <th>14833</th>\n",
       "      <td>44387224</td>\n",
       "      <td>Oru Sisu Jananam is a Indian Malayalam film di...</td>\n",
       "      <td>Oru Sisu Jananam</td>\n",
       "      <td>Oru Sisu JananamOru Sisu Jananam is a Indian M...</td>\n",
       "    </tr>\n",
       "    <tr>\n",
       "      <th>14834</th>\n",
       "      <td>44387237</td>\n",
       "      <td>H D Poindexter Houses are a set of historic ho...</td>\n",
       "      <td>H D Poindexter Houses</td>\n",
       "      <td>H D Poindexter HousesH D Poindexter Houses are...</td>\n",
       "    </tr>\n",
       "    <tr>\n",
       "      <th>14835</th>\n",
       "      <td>44387242</td>\n",
       "      <td>Kallimullu is a Indian Malayalam film directed...</td>\n",
       "      <td>Kallimullu</td>\n",
       "      <td>KallimulluKallimullu is a Indian Malayalam fil...</td>\n",
       "    </tr>\n",
       "    <tr>\n",
       "      <th>14836</th>\n",
       "      <td>44387249</td>\n",
       "      <td>This is a list of transfers in Serbian footba...</td>\n",
       "      <td>List of Serbian football transfers winter –</td>\n",
       "      <td>List of Serbian football transfers winter –  T...</td>\n",
       "    </tr>\n",
       "  </tbody>\n",
       "</table>\n",
       "<p>142199 rows × 4 columns</p>\n",
       "</div>"
      ],
      "text/plain": [
       "             id                                               text  \\\n",
       "0       7751000  M was a state trunkline highway in the US stat...   \n",
       "1       7751001  In sociology dynamic density refers to the com...   \n",
       "2       7751042  Bert Robert Shepard June – June was an America...   \n",
       "3       7751048  Marc Fein born Marc Alan Fein October in Miami...   \n",
       "4       7751062  Ghelamco Arena panorama indoor The Ghelamco Ar...   \n",
       "...         ...                                                ...   \n",
       "14832  44387200  Crassuncus livingstoni is a moth of the family...   \n",
       "14833  44387224  Oru Sisu Jananam is a Indian Malayalam film di...   \n",
       "14834  44387237  H D Poindexter Houses are a set of historic ho...   \n",
       "14835  44387242  Kallimullu is a Indian Malayalam film directed...   \n",
       "14836  44387249   This is a list of transfers in Serbian footba...   \n",
       "\n",
       "                                              title  \\\n",
       "0                               M Michigan highway    \n",
       "1                                   Dynamic density   \n",
       "2                                      Bert Shepard   \n",
       "3                                         Marc Fein   \n",
       "4                                    Ghelamco Arena   \n",
       "...                                             ...   \n",
       "14832                        Crassuncus livingstoni   \n",
       "14833                              Oru Sisu Jananam   \n",
       "14834                         H D Poindexter Houses   \n",
       "14835                                    Kallimullu   \n",
       "14836  List of Serbian football transfers winter –    \n",
       "\n",
       "                                                original  \n",
       "0      M Michigan highway M was a state trunkline hig...  \n",
       "1      Dynamic densityIn sociology dynamic density re...  \n",
       "2      Bert ShepardBert Robert Shepard June – June wa...  \n",
       "3      Marc FeinMarc Fein born Marc Alan Fein October...  \n",
       "4      Ghelamco ArenaGhelamco Arena panorama indoor T...  \n",
       "...                                                  ...  \n",
       "14832  Crassuncus livingstoniCrassuncus livingstoni i...  \n",
       "14833  Oru Sisu JananamOru Sisu Jananam is a Indian M...  \n",
       "14834  H D Poindexter HousesH D Poindexter Houses are...  \n",
       "14835  KallimulluKallimullu is a Indian Malayalam fil...  \n",
       "14836  List of Serbian football transfers winter –  T...  \n",
       "\n",
       "[142199 rows x 4 columns]"
      ]
     },
     "execution_count": 23,
     "metadata": {},
     "output_type": "execute_result"
    }
   ],
   "source": [
    "df['original'] = df['title'] + df['text'] # Соеденим текст\n",
    "df"
   ]
  },
  {
   "cell_type": "code",
   "execution_count": 24,
   "id": "17c31a69-4fdc-4f5a-8f7a-7b0e1f536638",
   "metadata": {},
   "outputs": [
    {
     "data": {
      "text/plain": [
       "0"
      ]
     },
     "execution_count": 24,
     "metadata": {},
     "output_type": "execute_result"
    }
   ],
   "source": [
    "df.shape[0] - len(df['id'].unique()) # Количество не уникальных идентификаторов"
   ]
  },
  {
   "cell_type": "code",
   "execution_count": 25,
   "id": "0460618e-c180-4e9a-8418-a330741f0a67",
   "metadata": {},
   "outputs": [
    {
     "name": "stderr",
     "output_type": "stream",
     "text": [
      "[nltk_data] Downloading package stopwords to\n",
      "[nltk_data]     C:\\Users\\k1rsn\\AppData\\Roaming\\nltk_data...\n",
      "[nltk_data]   Package stopwords is already up-to-date!\n"
     ]
    }
   ],
   "source": [
    "nltk.download('stopwords') # Скачаем слова, которые являются связывающими по типу \"and\", \"or\"\n",
    "stopwords = stopwords.words(\"english\") # Оставим только уникальные слова"
   ]
  },
  {
   "cell_type": "markdown",
   "id": "e6eb59f2-81cd-4e33-b5b6-4b186d74e1eb",
   "metadata": {},
   "source": [
    "Токенизация и удаление стоп слов"
   ]
  },
  {
   "cell_type": "code",
   "execution_count": 26,
   "id": "4c501ffc-8c7b-4fad-8ef6-e0df194c8cc4",
   "metadata": {},
   "outputs": [
    {
     "name": "stderr",
     "output_type": "stream",
     "text": [
      "[nltk_data] Downloading package punkt to\n",
      "[nltk_data]     C:\\Users\\k1rsn\\AppData\\Roaming\\nltk_data...\n",
      "[nltk_data]   Package punkt is already up-to-date!\n",
      "100%|█████████████████████████████████████████████████████████████████████████| 142199/142199 [05:24<00:00, 437.64it/s]\n"
     ]
    }
   ],
   "source": [
    "nltk.download('punkt')\n",
    "sw_texts_list = [] #создание списка текста с удаленными стоп словами\n",
    "for text in tqdm(df['original'].array):\n",
    "    tokens = word_tokenize(text) \n",
    "    tokens = [token for token in tokens if token not in set(stopwords) and token != ' ']\n",
    "    text = \" \".join(tokens)\n",
    "    sw_texts_list.append(text)\n",
    "\n",
    "df['text_sw'] = sw_texts_list"
   ]
  },
  {
   "cell_type": "markdown",
   "id": "6d9b610c-f861-4ae2-ab23-2e4252cfd5a8",
   "metadata": {},
   "source": [
    "Стемминг и удаление стопслов"
   ]
  },
  {
   "cell_type": "code",
   "execution_count": 17,
   "id": "f4b41044-9eed-4346-b76e-986f59fc9da5",
   "metadata": {},
   "outputs": [
    {
     "name": "stderr",
     "output_type": "stream",
     "text": [
      "100%|█████████████████████████████████████████████████████████████████████████| 142199/142199 [05:02<00:00, 469.48it/s]"
     ]
    },
    {
     "name": "stdout",
     "output_type": "stream",
     "text": [
      "CPU times: total: 1min 54s\n",
      "Wall time: 5min 2s\n"
     ]
    },
    {
     "name": "stderr",
     "output_type": "stream",
     "text": [
      "\n"
     ]
    }
   ],
   "source": [
    "# %%time\n",
    "# stemmer = snow(\"english\")\n",
    "# stemmed_texts_list = [] #создание списка стемминга слов\n",
    "# for text in tqdm(df[\"text_sw\"].values):\n",
    "#     tokens = word_tokenize(text)    \n",
    "#     tokens = [token for token in tokens if token not in set(stopwords) and token != ' ']\n",
    "#     text = \" \".join(tokens)\n",
    "#     stemmed_texts_list.append(text)\n",
    "\n",
    "# df['text_stem'] = stemmed_texts_list"
   ]
  },
  {
   "cell_type": "markdown",
   "id": "e9d0c804-f26e-444e-93b6-a23473781433",
   "metadata": {},
   "source": [
    "Лемитизация и удаление стопслов"
   ]
  },
  {
   "cell_type": "code",
   "execution_count": 29,
   "id": "319dc3c6-703e-4c3b-b58e-7ad1b8cde5ed",
   "metadata": {},
   "outputs": [],
   "source": [
    "# кешируем слова для быстрого доступа к ним в других случаях\n",
    "@lru_cache(maxsize=None) \n",
    "def norm_form(word):\n",
    "    return morph.parse(word)[0].normal_form\n",
    "new_nomenclature = list()\n",
    "morph = pymorphy2.MorphAnalyzer()\n",
    "for text in tqdm(df['text_stem']):\n",
    "    # приведём все слова к нормальной форме и удалим малозначимые слова\n",
    "    new_nomenclature.append(' '.join([norm_form(word) for word in text.split(' ') \\\n",
    "                 if word not in stopwords or word == 'то']).strip())\n",
    "df['text_lem'] = new_nomenclature"
   ]
  },
  {
   "cell_type": "markdown",
   "id": "be0a1572-e455-480e-961b-d27dfbeb5a39",
   "metadata": {},
   "source": [
    "Код для лемитизации написан, но всязи с тем, что нехватает вычислительных ресурсов компьютера, данная задача будет выполняться очень много времени"
   ]
  },
  {
   "cell_type": "code",
   "execution_count": 31,
   "id": "31ac0f63-4f8a-4df6-a3ce-f107c69cd304",
   "metadata": {},
   "outputs": [
    {
     "data": {
      "text/html": [
       "<div>\n",
       "<style scoped>\n",
       "    .dataframe tbody tr th:only-of-type {\n",
       "        vertical-align: middle;\n",
       "    }\n",
       "\n",
       "    .dataframe tbody tr th {\n",
       "        vertical-align: top;\n",
       "    }\n",
       "\n",
       "    .dataframe thead th {\n",
       "        text-align: right;\n",
       "    }\n",
       "</style>\n",
       "<table border=\"1\" class=\"dataframe\">\n",
       "  <thead>\n",
       "    <tr style=\"text-align: right;\">\n",
       "      <th></th>\n",
       "      <th>id</th>\n",
       "      <th>text</th>\n",
       "      <th>title</th>\n",
       "      <th>original</th>\n",
       "      <th>text_sw</th>\n",
       "    </tr>\n",
       "  </thead>\n",
       "  <tbody>\n",
       "    <tr>\n",
       "      <th>0</th>\n",
       "      <td>7751000</td>\n",
       "      <td>M was a state trunkline highway in the US stat...</td>\n",
       "      <td>M Michigan highway</td>\n",
       "      <td>M Michigan highway M was a state trunkline hig...</td>\n",
       "      <td>M Michigan highway M state trunkline highway U...</td>\n",
       "    </tr>\n",
       "    <tr>\n",
       "      <th>1</th>\n",
       "      <td>7751001</td>\n",
       "      <td>In sociology dynamic density refers to the com...</td>\n",
       "      <td>Dynamic density</td>\n",
       "      <td>Dynamic densityIn sociology dynamic density re...</td>\n",
       "      <td>Dynamic densityIn sociology dynamic density re...</td>\n",
       "    </tr>\n",
       "    <tr>\n",
       "      <th>2</th>\n",
       "      <td>7751042</td>\n",
       "      <td>Bert Robert Shepard June – June was an America...</td>\n",
       "      <td>Bert Shepard</td>\n",
       "      <td>Bert ShepardBert Robert Shepard June – June wa...</td>\n",
       "      <td>Bert ShepardBert Robert Shepard June – June Am...</td>\n",
       "    </tr>\n",
       "    <tr>\n",
       "      <th>3</th>\n",
       "      <td>7751048</td>\n",
       "      <td>Marc Fein born Marc Alan Fein October in Miami...</td>\n",
       "      <td>Marc Fein</td>\n",
       "      <td>Marc FeinMarc Fein born Marc Alan Fein October...</td>\n",
       "      <td>Marc FeinMarc Fein born Marc Alan Fein October...</td>\n",
       "    </tr>\n",
       "    <tr>\n",
       "      <th>4</th>\n",
       "      <td>7751062</td>\n",
       "      <td>Ghelamco Arena panorama indoor The Ghelamco Ar...</td>\n",
       "      <td>Ghelamco Arena</td>\n",
       "      <td>Ghelamco ArenaGhelamco Arena panorama indoor T...</td>\n",
       "      <td>Ghelamco ArenaGhelamco Arena panorama indoor T...</td>\n",
       "    </tr>\n",
       "    <tr>\n",
       "      <th>...</th>\n",
       "      <td>...</td>\n",
       "      <td>...</td>\n",
       "      <td>...</td>\n",
       "      <td>...</td>\n",
       "      <td>...</td>\n",
       "    </tr>\n",
       "    <tr>\n",
       "      <th>14832</th>\n",
       "      <td>44387200</td>\n",
       "      <td>Crassuncus livingstoni is a moth of the family...</td>\n",
       "      <td>Crassuncus livingstoni</td>\n",
       "      <td>Crassuncus livingstoniCrassuncus livingstoni i...</td>\n",
       "      <td>Crassuncus livingstoniCrassuncus livingstoni m...</td>\n",
       "    </tr>\n",
       "    <tr>\n",
       "      <th>14833</th>\n",
       "      <td>44387224</td>\n",
       "      <td>Oru Sisu Jananam is a Indian Malayalam film di...</td>\n",
       "      <td>Oru Sisu Jananam</td>\n",
       "      <td>Oru Sisu JananamOru Sisu Jananam is a Indian M...</td>\n",
       "      <td>Oru Sisu JananamOru Sisu Jananam Indian Malaya...</td>\n",
       "    </tr>\n",
       "    <tr>\n",
       "      <th>14834</th>\n",
       "      <td>44387237</td>\n",
       "      <td>H D Poindexter Houses are a set of historic ho...</td>\n",
       "      <td>H D Poindexter Houses</td>\n",
       "      <td>H D Poindexter HousesH D Poindexter Houses are...</td>\n",
       "      <td>H D Poindexter HousesH D Poindexter Houses set...</td>\n",
       "    </tr>\n",
       "    <tr>\n",
       "      <th>14835</th>\n",
       "      <td>44387242</td>\n",
       "      <td>Kallimullu is a Indian Malayalam film directed...</td>\n",
       "      <td>Kallimullu</td>\n",
       "      <td>KallimulluKallimullu is a Indian Malayalam fil...</td>\n",
       "      <td>KallimulluKallimullu Indian Malayalam film dir...</td>\n",
       "    </tr>\n",
       "    <tr>\n",
       "      <th>14836</th>\n",
       "      <td>44387249</td>\n",
       "      <td>This is a list of transfers in Serbian footba...</td>\n",
       "      <td>List of Serbian football transfers winter –</td>\n",
       "      <td>List of Serbian football transfers winter –  T...</td>\n",
       "      <td>List Serbian football transfers winter – This ...</td>\n",
       "    </tr>\n",
       "  </tbody>\n",
       "</table>\n",
       "<p>142199 rows × 5 columns</p>\n",
       "</div>"
      ],
      "text/plain": [
       "             id                                               text  \\\n",
       "0       7751000  M was a state trunkline highway in the US stat...   \n",
       "1       7751001  In sociology dynamic density refers to the com...   \n",
       "2       7751042  Bert Robert Shepard June – June was an America...   \n",
       "3       7751048  Marc Fein born Marc Alan Fein October in Miami...   \n",
       "4       7751062  Ghelamco Arena panorama indoor The Ghelamco Ar...   \n",
       "...         ...                                                ...   \n",
       "14832  44387200  Crassuncus livingstoni is a moth of the family...   \n",
       "14833  44387224  Oru Sisu Jananam is a Indian Malayalam film di...   \n",
       "14834  44387237  H D Poindexter Houses are a set of historic ho...   \n",
       "14835  44387242  Kallimullu is a Indian Malayalam film directed...   \n",
       "14836  44387249   This is a list of transfers in Serbian footba...   \n",
       "\n",
       "                                              title  \\\n",
       "0                               M Michigan highway    \n",
       "1                                   Dynamic density   \n",
       "2                                      Bert Shepard   \n",
       "3                                         Marc Fein   \n",
       "4                                    Ghelamco Arena   \n",
       "...                                             ...   \n",
       "14832                        Crassuncus livingstoni   \n",
       "14833                              Oru Sisu Jananam   \n",
       "14834                         H D Poindexter Houses   \n",
       "14835                                    Kallimullu   \n",
       "14836  List of Serbian football transfers winter –    \n",
       "\n",
       "                                                original  \\\n",
       "0      M Michigan highway M was a state trunkline hig...   \n",
       "1      Dynamic densityIn sociology dynamic density re...   \n",
       "2      Bert ShepardBert Robert Shepard June – June wa...   \n",
       "3      Marc FeinMarc Fein born Marc Alan Fein October...   \n",
       "4      Ghelamco ArenaGhelamco Arena panorama indoor T...   \n",
       "...                                                  ...   \n",
       "14832  Crassuncus livingstoniCrassuncus livingstoni i...   \n",
       "14833  Oru Sisu JananamOru Sisu Jananam is a Indian M...   \n",
       "14834  H D Poindexter HousesH D Poindexter Houses are...   \n",
       "14835  KallimulluKallimullu is a Indian Malayalam fil...   \n",
       "14836  List of Serbian football transfers winter –  T...   \n",
       "\n",
       "                                                 text_sw  \n",
       "0      M Michigan highway M state trunkline highway U...  \n",
       "1      Dynamic densityIn sociology dynamic density re...  \n",
       "2      Bert ShepardBert Robert Shepard June – June Am...  \n",
       "3      Marc FeinMarc Fein born Marc Alan Fein October...  \n",
       "4      Ghelamco ArenaGhelamco Arena panorama indoor T...  \n",
       "...                                                  ...  \n",
       "14832  Crassuncus livingstoniCrassuncus livingstoni m...  \n",
       "14833  Oru Sisu JananamOru Sisu Jananam Indian Malaya...  \n",
       "14834  H D Poindexter HousesH D Poindexter Houses set...  \n",
       "14835  KallimulluKallimullu Indian Malayalam film dir...  \n",
       "14836  List Serbian football transfers winter – This ...  \n",
       "\n",
       "[142199 rows x 5 columns]"
      ]
     },
     "execution_count": 31,
     "metadata": {},
     "output_type": "execute_result"
    }
   ],
   "source": [
    "df"
   ]
  },
  {
   "cell_type": "markdown",
   "id": "c4f0be60-9cab-4e57-b5ba-bec05c3d02c4",
   "metadata": {},
   "source": [
    "# 1.4 Поиск ключевых слов/n-грамм. Векторизация текстов"
   ]
  },
  {
   "cell_type": "code",
   "execution_count": 33,
   "id": "c71be99f-c82c-4259-ac82-a647c0fa0360",
   "metadata": {},
   "outputs": [
    {
     "name": "stdout",
     "output_type": "stream",
     "text": [
      "CPU times: total: 25.9 s\n",
      "Wall time: 38.5 s\n"
     ]
    },
    {
     "data": {
      "text/plain": [
       "(142199, 1500)"
      ]
     },
     "execution_count": 33,
     "metadata": {},
     "output_type": "execute_result"
    }
   ],
   "source": [
    "%%time\n",
    "vectorizer = CountVectorizer(max_features=1500, min_df=5, max_df=0.7, stop_words=stopwords)\n",
    "count_matrix = vectorizer.fit_transform(df['text_sw'])\n",
    "count_matrix.shape"
   ]
  },
  {
   "cell_type": "code",
   "execution_count": 48,
   "id": "d221ee63-81b4-48d8-a8a5-052b3ac48caa",
   "metadata": {},
   "outputs": [
    {
     "data": {
      "text/plain": [
       "array(['able', 'academic', 'academy', 'access', 'accessed', 'according',\n",
       "       'acquired', 'across', 'act', 'acting', 'action', 'active',\n",
       "       'activities', 'actor', 'actors', 'actress', 'added', 'addition',\n",
       "       'additional', 'administration', 'advanced', 'affairs', 'africa',\n",
       "       'african', 'age', 'agency', 'air', 'aircraft', 'airport', 'al',\n",
       "       'alabama', 'album', 'albums', 'alexander', 'ali', 'align',\n",
       "       'allowed', 'almost', 'along', 'alongside', 'already', 'also',\n",
       "       'although', 'alumni', 'always', 'america', 'american', 'among',\n",
       "       'analysis', 'ancient'], dtype=object)"
      ]
     },
     "execution_count": 48,
     "metadata": {},
     "output_type": "execute_result"
    }
   ],
   "source": [
    "vectorizer.get_feature_names_out()[:50] # отобразим первые 50 слов"
   ]
  },
  {
   "cell_type": "markdown",
   "id": "0564da63-ee9d-458f-8b22-30f6acee848d",
   "metadata": {},
   "source": [
    "ps_text_list = []\n",
    "for text in tqdm(df['text_lemm']):\n",
    "    try:\n",
    "        words = word_tokenize(text)\n",
    "        text_list = []\n",
    "        for i in range(len(words)):\n",
    "            p = morph.parse(words[i])[0]\n",
    "            text_list.append(\"(\" + words[i] + \", \" + str(p.tag.POS) + \")\")\n",
    "        ps_text_list.append(text_list)\n",
    "    except Exception as e:\n",
    "        print(e)\n",
    "df['text_ps'] = ps_text_list\n",
    "df.head()\n",
    "df.to_csv('habr_f.csv', index=False)"
   ]
  },
  {
   "cell_type": "code",
   "execution_count": 170,
   "id": "85cacc07-6d0f-431a-9f9c-d8524d9c620a",
   "metadata": {},
   "outputs": [],
   "source": [
    "# Добавление ключевых слов, биграмм и триграмм¶\n",
    "from sklearn.feature_extraction.text import TfidfVectorizer\n",
    "from sklearn.decomposition import LatentDirichletAllocation\n",
    "tfidf_vectorizer = TfidfVectorizer(max_df=0.8, max_features=10000,\n",
    "                                 min_df=0.01, stop_words=stopwords,\n",
    "                                 ngram_range=(1,3))\n",
    "for i in range(len(df)):\n",
    "    tfidf_vectorizer = TfidfVectorizer(stop_words=stopwords, ngram_range=(1,1))\n",
    "    tfidf_matrix= tfidf_vectorizer.fit_transform([df.loc[i, 'text_lemm']]).toarray()\n",
    "    df.loc[i, 'keyword'] = str(dict(zip(tfidf_vectorizer.get_feature_names_out(), tfidf_matrix[0])))\n",
    "    \n",
    "    tfidf_vectorizer = TfidfVectorizer(stop_words=stopwords, ngram_range=(2,2))\n",
    "    tfidf_matrix= tfidf_vectorizer.fit_transform([df.loc[i, 'text_lemm']]).toarray()\n",
    "    df.loc[i, 'bigrams'] = str(dict(zip(tfidf_vectorizer.get_feature_names_out(), tfidf_matrix[0])))\n",
    "    \n",
    "    tfidf_vectorizer = TfidfVectorizer(stop_words=stopwords, ngram_range=(3,3))\n",
    "    tfidf_matrix= tfidf_vectorizer.fit_transform([df.loc[i, 'text_lemm']]).toarray()\n",
    "    df.loc[i, 'trigrams'] = str(dict(zip(tfidf_vectorizer.get_feature_names_out(), tfidf_matrix[0])))"
   ]
  },
  {
   "cell_type": "markdown",
   "id": "77c51092-a5c0-426c-bfc9-23642d1370fa",
   "metadata": {},
   "source": [
    "# 1.5 Тематическое моделирование"
   ]
  },
  {
   "cell_type": "code",
   "execution_count": 50,
   "id": "87e9a5d5-f14c-481f-8d18-b0f78fe1549e",
   "metadata": {},
   "outputs": [
    {
     "data": {
      "text/plain": [
       "<matplotlib.image.AxesImage at 0x2880aec8f50>"
      ]
     },
     "execution_count": 50,
     "metadata": {},
     "output_type": "execute_result"
    },
    {
     "data": {
      "image/png": "[encoded data removed]",
      "text/plain": [
       "<Figure size 500x500 with 1 Axes>"
      ]
     },
     "metadata": {},
     "output_type": "display_data"
    }
   ],
   "source": [
    "import matplotlib.pyplot as plt\n",
    "%matplotlib inline\n",
    "\n",
    "from wordcloud import WordCloud, STOPWORDS\n",
    "test_text = df['text'].iloc[0]\n",
    "wordCloud = WordCloud().generate(test_text)\n",
    "\n",
    "plt.figure(figsize=(5,5))\n",
    "plt.imshow(wordCloud)"
   ]
  },
  {
   "cell_type": "code",
   "execution_count": 52,
   "id": "1b8a5ba1-cd16-4298-9b76-6199ce5982a7",
   "metadata": {},
   "outputs": [
    {
     "data": {
      "image/png": "[encoded data removed]",
      "text/plain": [
       "<Figure size 640x480 with 1 Axes>"
      ]
     },
     "metadata": {},
     "output_type": "display_data"
    }
   ],
   "source": [
    "plt.hist(df['id'])\n",
    "plt.show()"
   ]
  },
  {
   "cell_type": "code",
   "execution_count": null,
   "id": "1d6d332b-8641-49c8-a206-7c4beec650d0",
   "metadata": {},
   "outputs": [],
   "source": [
    "# Ещё какая-то визуализация"
   ]
  },
  {
   "cell_type": "markdown",
   "id": "b94284f2-5e9e-4380-ae27-52b70451640f",
   "metadata": {},
   "source": [
    "# 1.6 Кластеризация"
   ]
  },
  {
   "cell_type": "code",
   "execution_count": 49,
   "id": "6956c05c-4f65-4bfd-a971-cae98ca830c4",
   "metadata": {},
   "outputs": [
    {
     "data": {
      "image/png": "[encoded data removed]",
      "text/plain": [
       "<Figure size 800x400 with 1 Axes>"
      ]
     },
     "metadata": {},
     "output_type": "display_data"
    }
   ],
   "source": [
    "%%time\n",
    "inertia = [] \n",
    "max_clusters = 12 # Максимальное количество кластеров\n",
    "for i in tqdm(range(2, max_clusters + 1)):\n",
    "    kmeans = KMeans(n_clusters=i, random_state=2023) \n",
    "    kmeans.fit(count_matrix)\n",
    "    inertia.append(kmeans.inertia_)\n",
    "\n",
    "# Визуализируем \n",
    "plt.figure(figsize=(8, 4))\n",
    "plt.plot(range(2, max_clusters + 1), inertia, marker='o', linestyle='--', color='purple')\n",
    "plt.title('Метод локтя')\n",
    "plt.xlabel('Количество кластеров(K)')\n",
    "plt.ylabel('WCSS')\n",
    "plt.grid()\n",
    "plt.show()"
   ]
  },
  {
   "cell_type": "code",
   "execution_count": 53,
   "id": "064d00f0-7952-4f05-be5a-6ff8889c977c",
   "metadata": {},
   "outputs": [
    {
     "data": {
      "text/plain": [
       "CLASS\n",
       "4    98.128679\n",
       "0     1.590728\n",
       "2     0.155416\n",
       "5     0.092124\n",
       "7     0.014065\n",
       "3     0.010549\n",
       "1     0.004923\n",
       "6     0.002110\n",
       "9     0.000703\n",
       "8     0.000703\n",
       "Name: count, dtype: float64"
      ]
     },
     "execution_count": 53,
     "metadata": {},
     "output_type": "execute_result"
    }
   ],
   "source": [
    "k = 10 # Выберем наилучшее количество классов\n",
    "kmeans = KMeans(n_clusters=k, random_state=0) \n",
    "clusters = kmeans.fit_predict(count_matrix) # Получим класстер для каждой итерации\n",
    "\n",
    "df['CLASS'] = clusters # Занесём в отдельный признак\n",
    "df['CLASS'].value_counts() / df.shape[0] * 100 # Отобразим процентное соотношение "
   ]
  },
  {
   "cell_type": "code",
   "execution_count": 70,
   "id": "d407e7ea-350b-4907-bb76-98d6396e961f",
   "metadata": {},
   "outputs": [
    {
     "data": {
      "text/plain": [
       "<BarContainer object of 10 artists>"
      ]
     },
     "execution_count": 70,
     "metadata": {},
     "output_type": "execute_result"
    },
    {
     "data": {
      "image/png": "[encoded data removed]",
      "text/plain": [
       "<Figure size 640x480 with 1 Axes>"
      ]
     },
     "metadata": {},
     "output_type": "display_data"
    }
   ],
   "source": [
    "plt.barh( ['Класс: '+ str(column) for column in df.CLASS.unique()], df['CLASS'].value_counts() / df.shape[0] * 100, align='center',\n",
    "        color='green', ecolor='black')"
   ]
  },
  {
   "cell_type": "code",
   "execution_count": 63,
   "id": "4b5633d9-6113-4588-8e89-60ae72c4d7af",
   "metadata": {},
   "outputs": [
    {
     "name": "stdout",
     "output_type": "stream",
     "text": [
      "CPU times: total: 11min 31s\n",
      "Wall time: 13min 8s\n"
     ]
    },
    {
     "data": {
      "text/plain": [
       "array([ -1,  -1,  -1, ...,  -1, 344,  -1], dtype=int64)"
      ]
     },
     "execution_count": 63,
     "metadata": {},
     "output_type": "execute_result"
    }
   ],
   "source": [
    "%%time\n",
    "from sklearn.cluster import DBSCAN\n",
    "dbscan = DBSCAN()\n",
    "dbscan.fit(count_matrix)\n",
    "dbscan.labels_"
   ]
  },
  {
   "cell_type": "code",
   "execution_count": 64,
   "id": "5266c287-3881-48d6-8031-4ced3e8d4316",
   "metadata": {},
   "outputs": [
    {
     "data": {
      "text/plain": [
       "363"
      ]
     },
     "execution_count": 64,
     "metadata": {},
     "output_type": "execute_result"
    }
   ],
   "source": [
    "len(set(dbscan.labels_))"
   ]
  },
  {
   "cell_type": "code",
   "execution_count": 65,
   "id": "7b5174ba-90ee-4d0c-963e-9fd7102ae534",
   "metadata": {},
   "outputs": [
    {
     "data": {
      "text/plain": [
       "CLASS\n",
       "-1      95.320642\n",
       " 182     0.198314\n",
       " 176     0.159635\n",
       " 180     0.132912\n",
       " 121     0.130803\n",
       "          ...    \n",
       " 157     0.003516\n",
       " 286     0.003516\n",
       " 163     0.003516\n",
       " 164     0.003516\n",
       " 3       0.003516\n",
       "Name: count, Length: 363, dtype: float64"
      ]
     },
     "execution_count": 65,
     "metadata": {},
     "output_type": "execute_result"
    }
   ],
   "source": [
    "df['CLASS'] = dbscan.labels_ # Занесём в отдельный признак\n",
    "df['CLASS'].value_counts() / df.shape[0] * 100 # Отобразим процентное соотношение "
   ]
  },
  {
   "cell_type": "code",
   "execution_count": 68,
   "id": "a312aff4-f44b-41ff-b62f-97dd1e1f0ed7",
   "metadata": {},
   "outputs": [
    {
     "ename": "TypeError",
     "evalue": "PCA initialization is currently not supported with the sparse input matrix. Use init=\"random\" instead.",
     "output_type": "error",
     "traceback": [
      "\u001b[1;31m---------------------------------------------------------------------------\u001b[0m",
      "\u001b[1;31mTypeError\u001b[0m                                 Traceback (most recent call last)",
      "Cell \u001b[1;32mIn[68], line 3\u001b[0m\n\u001b[0;32m      1\u001b[0m \u001b[38;5;28;01mfrom\u001b[39;00m \u001b[38;5;21;01msklearn\u001b[39;00m\u001b[38;5;21;01m.\u001b[39;00m\u001b[38;5;21;01mmanifold\u001b[39;00m \u001b[38;5;28;01mimport\u001b[39;00m TSNE\n\u001b[0;32m      2\u001b[0m tsne_model \u001b[38;5;241m=\u001b[39m TSNE(learning_rate\u001b[38;5;241m=\u001b[39m\u001b[38;5;241m100\u001b[39m)\n\u001b[1;32m----> 3\u001b[0m transformed \u001b[38;5;241m=\u001b[39m \u001b[43mtsne_model\u001b[49m\u001b[38;5;241;43m.\u001b[39;49m\u001b[43mfit_transform\u001b[49m\u001b[43m(\u001b[49m\u001b[43mcount_matrix\u001b[49m\u001b[43m)\u001b[49m\n\u001b[0;32m      4\u001b[0m \u001b[38;5;28mlen\u001b[39m(\u001b[38;5;28mset\u001b[39m(transformed))\n",
      "File \u001b[1;32m~\\AppData\\Local\\Programs\\Python\\Python311\\Lib\\site-packages\\sklearn\\utils\\_set_output.py:157\u001b[0m, in \u001b[0;36m_wrap_method_output.<locals>.wrapped\u001b[1;34m(self, X, *args, **kwargs)\u001b[0m\n\u001b[0;32m    155\u001b[0m \u001b[38;5;129m@wraps\u001b[39m(f)\n\u001b[0;32m    156\u001b[0m \u001b[38;5;28;01mdef\u001b[39;00m \u001b[38;5;21mwrapped\u001b[39m(\u001b[38;5;28mself\u001b[39m, X, \u001b[38;5;241m*\u001b[39margs, \u001b[38;5;241m*\u001b[39m\u001b[38;5;241m*\u001b[39mkwargs):\n\u001b[1;32m--> 157\u001b[0m     data_to_wrap \u001b[38;5;241m=\u001b[39m \u001b[43mf\u001b[49m\u001b[43m(\u001b[49m\u001b[38;5;28;43mself\u001b[39;49m\u001b[43m,\u001b[49m\u001b[43m \u001b[49m\u001b[43mX\u001b[49m\u001b[43m,\u001b[49m\u001b[43m \u001b[49m\u001b[38;5;241;43m*\u001b[39;49m\u001b[43margs\u001b[49m\u001b[43m,\u001b[49m\u001b[43m \u001b[49m\u001b[38;5;241;43m*\u001b[39;49m\u001b[38;5;241;43m*\u001b[39;49m\u001b[43mkwargs\u001b[49m\u001b[43m)\u001b[49m\n\u001b[0;32m    158\u001b[0m     \u001b[38;5;28;01mif\u001b[39;00m \u001b[38;5;28misinstance\u001b[39m(data_to_wrap, \u001b[38;5;28mtuple\u001b[39m):\n\u001b[0;32m    159\u001b[0m         \u001b[38;5;66;03m# only wrap the first output for cross decomposition\u001b[39;00m\n\u001b[0;32m    160\u001b[0m         return_tuple \u001b[38;5;241m=\u001b[39m (\n\u001b[0;32m    161\u001b[0m             _wrap_data_with_container(method, data_to_wrap[\u001b[38;5;241m0\u001b[39m], X, \u001b[38;5;28mself\u001b[39m),\n\u001b[0;32m    162\u001b[0m             \u001b[38;5;241m*\u001b[39mdata_to_wrap[\u001b[38;5;241m1\u001b[39m:],\n\u001b[0;32m    163\u001b[0m         )\n",
      "File \u001b[1;32m~\\AppData\\Local\\Programs\\Python\\Python311\\Lib\\site-packages\\sklearn\\base.py:1152\u001b[0m, in \u001b[0;36m_fit_context.<locals>.decorator.<locals>.wrapper\u001b[1;34m(estimator, *args, **kwargs)\u001b[0m\n\u001b[0;32m   1145\u001b[0m     estimator\u001b[38;5;241m.\u001b[39m_validate_params()\n\u001b[0;32m   1147\u001b[0m \u001b[38;5;28;01mwith\u001b[39;00m config_context(\n\u001b[0;32m   1148\u001b[0m     skip_parameter_validation\u001b[38;5;241m=\u001b[39m(\n\u001b[0;32m   1149\u001b[0m         prefer_skip_nested_validation \u001b[38;5;129;01mor\u001b[39;00m global_skip_validation\n\u001b[0;32m   1150\u001b[0m     )\n\u001b[0;32m   1151\u001b[0m ):\n\u001b[1;32m-> 1152\u001b[0m     \u001b[38;5;28;01mreturn\u001b[39;00m \u001b[43mfit_method\u001b[49m\u001b[43m(\u001b[49m\u001b[43mestimator\u001b[49m\u001b[43m,\u001b[49m\u001b[43m \u001b[49m\u001b[38;5;241;43m*\u001b[39;49m\u001b[43margs\u001b[49m\u001b[43m,\u001b[49m\u001b[43m \u001b[49m\u001b[38;5;241;43m*\u001b[39;49m\u001b[38;5;241;43m*\u001b[39;49m\u001b[43mkwargs\u001b[49m\u001b[43m)\u001b[49m\n",
      "File \u001b[1;32m~\\AppData\\Local\\Programs\\Python\\Python311\\Lib\\site-packages\\sklearn\\manifold\\_t_sne.py:1111\u001b[0m, in \u001b[0;36mTSNE.fit_transform\u001b[1;34m(self, X, y)\u001b[0m\n\u001b[0;32m   1090\u001b[0m \u001b[38;5;250m\u001b[39m\u001b[38;5;124;03m\"\"\"Fit X into an embedded space and return that transformed output.\u001b[39;00m\n\u001b[0;32m   1091\u001b[0m \n\u001b[0;32m   1092\u001b[0m \u001b[38;5;124;03mParameters\u001b[39;00m\n\u001b[1;32m   (...)\u001b[0m\n\u001b[0;32m   1108\u001b[0m \u001b[38;5;124;03m    Embedding of the training data in low-dimensional space.\u001b[39;00m\n\u001b[0;32m   1109\u001b[0m \u001b[38;5;124;03m\"\"\"\u001b[39;00m\n\u001b[0;32m   1110\u001b[0m \u001b[38;5;28mself\u001b[39m\u001b[38;5;241m.\u001b[39m_check_params_vs_input(X)\n\u001b[1;32m-> 1111\u001b[0m embedding \u001b[38;5;241m=\u001b[39m \u001b[38;5;28;43mself\u001b[39;49m\u001b[38;5;241;43m.\u001b[39;49m\u001b[43m_fit\u001b[49m\u001b[43m(\u001b[49m\u001b[43mX\u001b[49m\u001b[43m)\u001b[49m\n\u001b[0;32m   1112\u001b[0m \u001b[38;5;28mself\u001b[39m\u001b[38;5;241m.\u001b[39membedding_ \u001b[38;5;241m=\u001b[39m embedding\n\u001b[0;32m   1113\u001b[0m \u001b[38;5;28;01mreturn\u001b[39;00m \u001b[38;5;28mself\u001b[39m\u001b[38;5;241m.\u001b[39membedding_\n",
      "File \u001b[1;32m~\\AppData\\Local\\Programs\\Python\\Python311\\Lib\\site-packages\\sklearn\\manifold\\_t_sne.py:827\u001b[0m, in \u001b[0;36mTSNE._fit\u001b[1;34m(self, X, skip_num_points)\u001b[0m\n\u001b[0;32m    824\u001b[0m \u001b[38;5;250m\u001b[39m\u001b[38;5;124;03m\"\"\"Private function to fit the model using X as training data.\"\"\"\u001b[39;00m\n\u001b[0;32m    826\u001b[0m \u001b[38;5;28;01mif\u001b[39;00m \u001b[38;5;28misinstance\u001b[39m(\u001b[38;5;28mself\u001b[39m\u001b[38;5;241m.\u001b[39minit, \u001b[38;5;28mstr\u001b[39m) \u001b[38;5;129;01mand\u001b[39;00m \u001b[38;5;28mself\u001b[39m\u001b[38;5;241m.\u001b[39minit \u001b[38;5;241m==\u001b[39m \u001b[38;5;124m\"\u001b[39m\u001b[38;5;124mpca\u001b[39m\u001b[38;5;124m\"\u001b[39m \u001b[38;5;129;01mand\u001b[39;00m issparse(X):\n\u001b[1;32m--> 827\u001b[0m     \u001b[38;5;28;01mraise\u001b[39;00m \u001b[38;5;167;01mTypeError\u001b[39;00m(\n\u001b[0;32m    828\u001b[0m         \u001b[38;5;124m\"\u001b[39m\u001b[38;5;124mPCA initialization is currently not supported \u001b[39m\u001b[38;5;124m\"\u001b[39m\n\u001b[0;32m    829\u001b[0m         \u001b[38;5;124m\"\u001b[39m\u001b[38;5;124mwith the sparse input matrix. Use \u001b[39m\u001b[38;5;124m\"\u001b[39m\n\u001b[0;32m    830\u001b[0m         \u001b[38;5;124m'\u001b[39m\u001b[38;5;124minit=\u001b[39m\u001b[38;5;124m\"\u001b[39m\u001b[38;5;124mrandom\u001b[39m\u001b[38;5;124m\"\u001b[39m\u001b[38;5;124m instead.\u001b[39m\u001b[38;5;124m'\u001b[39m\n\u001b[0;32m    831\u001b[0m     )\n\u001b[0;32m    833\u001b[0m \u001b[38;5;28;01mif\u001b[39;00m \u001b[38;5;28mself\u001b[39m\u001b[38;5;241m.\u001b[39mlearning_rate \u001b[38;5;241m==\u001b[39m \u001b[38;5;124m\"\u001b[39m\u001b[38;5;124mauto\u001b[39m\u001b[38;5;124m\"\u001b[39m:\n\u001b[0;32m    834\u001b[0m     \u001b[38;5;66;03m# See issue #18018\u001b[39;00m\n\u001b[0;32m    835\u001b[0m     \u001b[38;5;28mself\u001b[39m\u001b[38;5;241m.\u001b[39mlearning_rate_ \u001b[38;5;241m=\u001b[39m X\u001b[38;5;241m.\u001b[39mshape[\u001b[38;5;241m0\u001b[39m] \u001b[38;5;241m/\u001b[39m \u001b[38;5;28mself\u001b[39m\u001b[38;5;241m.\u001b[39mearly_exaggeration \u001b[38;5;241m/\u001b[39m \u001b[38;5;241m4\u001b[39m\n",
      "\u001b[1;31mTypeError\u001b[0m: PCA initialization is currently not supported with the sparse input matrix. Use init=\"random\" instead."
     ]
    }
   ],
   "source": [
    "from sklearn.manifold import TSNE\n",
    "tsne_model = TSNE(learning_rate=100)\n",
    "transformed = tsne_model.fit_transform(count_matrix)\n",
    "len(set(transformed))"
   ]
  },
  {
   "cell_type": "markdown",
   "id": "a92d4a13-7955-4554-8774-51fcb31d7ff4",
   "metadata": {},
   "source": [
    "# 2.1 Разведочный анализ"
   ]
  },
  {
   "cell_type": "code",
   "execution_count": 74,
   "id": "0f0be67e-41f7-4536-86c9-90f603194cda",
   "metadata": {},
   "outputs": [
    {
     "name": "stdout",
     "output_type": "stream",
     "text": [
      "<class 'pandas.core.frame.DataFrame'>\n",
      "Index: 142199 entries, 0 to 14836\n",
      "Data columns (total 6 columns):\n",
      " #   Column    Non-Null Count   Dtype \n",
      "---  ------    --------------   ----- \n",
      " 0   id        142199 non-null  int32 \n",
      " 1   text      142199 non-null  object\n",
      " 2   title     142199 non-null  object\n",
      " 3   original  142199 non-null  object\n",
      " 4   text_sw   142199 non-null  object\n",
      " 5   CLASS     142199 non-null  int32 \n",
      "dtypes: int32(2), object(4)\n",
      "memory usage: 10.5+ MB\n"
     ]
    }
   ],
   "source": [
    "df.info()"
   ]
  },
  {
   "cell_type": "code",
   "execution_count": 77,
   "id": "34d8a331-416d-402e-835c-08c3d7a78103",
   "metadata": {},
   "outputs": [
    {
     "data": {
      "text/html": [
       "<div>\n",
       "<style scoped>\n",
       "    .dataframe tbody tr th:only-of-type {\n",
       "        vertical-align: middle;\n",
       "    }\n",
       "\n",
       "    .dataframe tbody tr th {\n",
       "        vertical-align: top;\n",
       "    }\n",
       "\n",
       "    .dataframe thead th {\n",
       "        text-align: right;\n",
       "    }\n",
       "</style>\n",
       "<table border=\"1\" class=\"dataframe\">\n",
       "  <thead>\n",
       "    <tr style=\"text-align: right;\">\n",
       "      <th></th>\n",
       "      <th>count</th>\n",
       "      <th>mean</th>\n",
       "      <th>std</th>\n",
       "      <th>min</th>\n",
       "      <th>25%</th>\n",
       "      <th>50%</th>\n",
       "      <th>75%</th>\n",
       "      <th>max</th>\n",
       "    </tr>\n",
       "  </thead>\n",
       "  <tbody>\n",
       "    <tr>\n",
       "      <th>id</th>\n",
       "      <td>142199.0</td>\n",
       "      <td>3.815159e+07</td>\n",
       "      <td>2.269072e+07</td>\n",
       "      <td>41243.0</td>\n",
       "      <td>11574569.5</td>\n",
       "      <td>52424909.0</td>\n",
       "      <td>58447198.5</td>\n",
       "      <td>60613028.0</td>\n",
       "    </tr>\n",
       "    <tr>\n",
       "      <th>CLASS</th>\n",
       "      <td>142199.0</td>\n",
       "      <td>3.934458e+00</td>\n",
       "      <td>5.094581e-01</td>\n",
       "      <td>0.0</td>\n",
       "      <td>4.0</td>\n",
       "      <td>4.0</td>\n",
       "      <td>4.0</td>\n",
       "      <td>9.0</td>\n",
       "    </tr>\n",
       "  </tbody>\n",
       "</table>\n",
       "</div>"
      ],
      "text/plain": [
       "          count          mean           std      min         25%         50%  \\\n",
       "id     142199.0  3.815159e+07  2.269072e+07  41243.0  11574569.5  52424909.0   \n",
       "CLASS  142199.0  3.934458e+00  5.094581e-01      0.0         4.0         4.0   \n",
       "\n",
       "              75%         max  \n",
       "id     58447198.5  60613028.0  \n",
       "CLASS         4.0         9.0  "
      ]
     },
     "execution_count": 77,
     "metadata": {},
     "output_type": "execute_result"
    }
   ],
   "source": [
    "df.describe().T"
   ]
  },
  {
   "cell_type": "code",
   "execution_count": 75,
   "id": "253aebbd-bf5e-4133-8b89-fc6e69247a5b",
   "metadata": {},
   "outputs": [
    {
     "data": {
      "text/plain": [
       "array([[<Axes: title={'center': 'id'}>,\n",
       "        <Axes: title={'center': 'CLASS'}>]], dtype=object)"
      ]
     },
     "execution_count": 75,
     "metadata": {},
     "output_type": "execute_result"
    },
    {
     "data": {
      "image/png": "[encoded data removed]",
      "text/plain": [
       "<Figure size 640x480 with 2 Axes>"
      ]
     },
     "metadata": {},
     "output_type": "display_data"
    }
   ],
   "source": [
    "df.hist()"
   ]
  },
  {
   "cell_type": "markdown",
   "id": "7c846084-55cb-4315-b8af-96a45e703e87",
   "metadata": {},
   "source": [
    "# 2.2 Разбиение выборки"
   ]
  },
  {
   "cell_type": "code",
   "execution_count": 89,
   "id": "55f7d233-7644-44df-bd2e-52377c75e660",
   "metadata": {},
   "outputs": [],
   "source": [
    "X_train, X_test, y_train, y_test = train_test_split(\n",
    "    count_matrix, df['CLASS'], test_size=0.2, random_state=42)"
   ]
  },
  {
   "cell_type": "code",
   "execution_count": 82,
   "id": "a34c8eac-8bb4-4278-a574-7d95529d4ebf",
   "metadata": {},
   "outputs": [],
   "source": [
    "from sklearn.linear_model import LogisticRegression\n",
    "from sklearn.neighbors import KNeighborsClassifier\n",
    "from sklearn.svm import SVC\n",
    "models = [\n",
    "    LogisticRegression(),\n",
    "    KNeighborsClassifier(),\n",
    "    SVC()\n",
    "]"
   ]
  },
  {
   "cell_type": "code",
   "execution_count": 72,
   "id": "f6889bee-9211-4216-9010-e0a9374d74da",
   "metadata": {},
   "outputs": [
    {
     "name": "stdout",
     "output_type": "stream",
     "text": [
      "LogisticRegression            : Score: 0.9806610407876231, RMSE:  27.118794\n",
      "KNeighborsClassifier          : Score: 0.9615682137834036, RMSE:  34.126023\n",
      "SVC                           : Score: 0.9520042194092827, RMSE:  44.586664\n",
      "--------------------------------------------------------------------------------------------\n",
      "LogisticRegression            : Score: 0.9806610407876231, RMSE:  27.118794\n"
     ]
    }
   ],
   "source": [
    "from sklearn.metrics import accuracy_score, mean_squared_error\n",
    "best_model = None # Лучшая модель\n",
    "best_score = None # Точность у лучшей модели\n",
    "best_loss = None # Ошибка у лучшей модели\n",
    "for clf in models:\n",
    "    clf.fit(X_train, y_train) \n",
    "    y_pred = clf.predict(X_test)\n",
    "\n",
    "    # Высчитываем метрики\n",
    "    r2 = accuracy_score(y_test, y_pred)\n",
    "    rmse = mean_squared_error(y_test, y_pred, squared=False)\n",
    "    print(f\"{clf.__class__.__name__:30}: Score: {r2:17}, RMSE: {round(rmse, 6):10}\")\n",
    "\n",
    "    # Проверям на лучшую модель\n",
    "    if best_loss != None:\n",
    "        if best_loss > rmse:\n",
    "            best_model = clf\n",
    "            best_score = r2\n",
    "            best_loss = rmse\n",
    "    else:\n",
    "        best_model = clf\n",
    "        best_score = r2\n",
    "        best_loss = rmse\n",
    "\n",
    "# Выводим лучшую модель\n",
    "print(\"-\"*92)\n",
    "print(f\"{best_model.__class__.__name__:30}: Score: {best_score}, RMSE: {round(best_loss, 6):10}\")"
   ]
  },
  {
   "cell_type": "markdown",
   "id": "6cc343da-e8ea-47c8-a7d2-3f39df31adb8",
   "metadata": {},
   "source": [
    "# 2.3 Оптимизация модели"
   ]
  },
  {
   "cell_type": "code",
   "execution_count": null,
   "id": "d3782c9c-cb7e-48c0-99b1-f9cb215ec4ec",
   "metadata": {},
   "outputs": [],
   "source": [
    "# Понижение размерности\n",
    "lasso = Lasso(alpha=0.0004)\n",
    "lasso.fit(df.drop(\"CLASS\", axis=1), df[\"CLASS\"])\n",
    "columns_not_null = []\n",
    "for i in range(len(lasso.coef_)):\n",
    "    if(lasso.coef_[i]!=0):\n",
    "        columns_not_null.append(df.drop(\"CLASS\", axis=1).columns[i])\n",
    "columns_not_null"
   ]
  },
  {
   "cell_type": "code",
   "execution_count": 147,
   "id": "d43994f0-9d48-4aa4-9005-603b65ae4db0",
   "metadata": {},
   "outputs": [],
   "source": [
    "param_grid =   {\n",
    "    'penalty' : ['none', 'l2'],\n",
    "    # 'penalty' : [ 'none', 'l1', 'l2', 'elasticnet'],\n",
    "    # 'C' : np.logspace(-4, 4, 20),\n",
    "    # 'solver' : ['lbfgs','newton-cg','liblinear','sag','saga'],\n",
    "    # 'max_iter' : [100, 1000,2500, 5000]\n",
    "}\n"
   ]
  },
  {
   "cell_type": "code",
   "execution_count": 148,
   "id": "45758b8a-73dd-4e53-a7b0-0baa2955ac5c",
   "metadata": {},
   "outputs": [
    {
     "name": "stdout",
     "output_type": "stream",
     "text": [
      "Fitting 3 folds for each of 3 candidates, totalling 9 fits\n",
      "[CV 1/3] END ......................penalty=none;, score=0.991 total time=   6.5s\n",
      "[CV 2/3] END ......................penalty=none;, score=0.991 total time=   6.2s\n",
      "[CV 3/3] END ......................penalty=none;, score=0.992 total time=   6.4s\n",
      "[CV 1/3] END ........................penalty=l2;, score=0.991 total time=   6.4s\n",
      "[CV 2/3] END ........................penalty=l2;, score=0.991 total time=   6.4s\n",
      "[CV 3/3] END ........................penalty=l2;, score=0.992 total time=   6.7s\n",
      "[CV 1/3] END ..........................penalty=l1;, score=nan total time=   0.0s\n",
      "[CV 2/3] END ..........................penalty=l1;, score=nan total time=   0.0s\n",
      "[CV 3/3] END ..........................penalty=l1;, score=nan total time=   0.0s\n",
      "LogisticRegression Score: 0.9903305203938115, RMSE:   0.360692\n"
     ]
    }
   ],
   "source": [
    "from sklearn.model_selection import GridSearchCV\n",
    "clf =  GridSearchCV(LogisticRegression(), param_grid, cv=3, return_train_score=False, verbose=3)\n",
    "clf.fit(X_train, y_train)\n",
    "y_pred = clf.predict(X_test)\n",
    "r2_new = accuracy_score(y_test, y_pred)\n",
    "rmse_new = mean_squared_error(y_test, y_pred, squared=False)\n",
    "print(f\"LogisticRegression Score: {r2_new:17}, RMSE: {round(rmse_new, 6):10}\")"
   ]
  },
  {
   "cell_type": "code",
   "execution_count": 163,
   "id": "64787e3d-ec97-4351-9b0b-d2edb3f591cf",
   "metadata": {},
   "outputs": [
    {
     "data": {
      "image/png": "[encoded data removed]",
      "text/plain": [
       "<Figure size 640x480 with 1 Axes>"
      ]
     },
     "metadata": {},
     "output_type": "display_data"
    }
   ],
   "source": [
    "mean_test_score = clf.cv_results_['mean_test_score'] * 100 # История обучения\n",
    "params = clf.cv_results_['params'] # Массив подбираемых гиперпарамметров\n",
    "plt.barh([str(param) for param in params], mean_test_score, align='center',color='green', ecolor='black')\n",
    "plt.title('Точность в зависимости от параметров')\n",
    "plt.show()"
   ]
  },
  {
   "cell_type": "code",
   "execution_count": 162,
   "id": "12e93b9d-c0af-4728-a685-13a7357b1920",
   "metadata": {},
   "outputs": [
    {
     "data": {
      "image/png": "[encoded data removed]",
      "text/plain": [
       "<Figure size 640x480 with 1 Axes>"
      ]
     },
     "metadata": {},
     "output_type": "display_data"
    }
   ],
   "source": [
    "plt.plot(mean_test_score)\n",
    "plt.title('Кривая обучения')\n",
    "plt.show()"
   ]
  }
 ],
 "metadata": {
  "kernelspec": {
   "display_name": "Python 3 (ipykernel)",
   "language": "python",
   "name": "python3"
  },
  "language_info": {
   "codemirror_mode": {
    "name": "ipython",
    "version": 3
   },
   "file_extension": ".py",
   "mimetype": "text/x-python",
   "name": "python",
   "nbconvert_exporter": "python",
   "pygments_lexer": "ipython3",
   "version": "3.11.5"
  }
 },
 "nbformat": 4,
 "nbformat_minor": 5
}
